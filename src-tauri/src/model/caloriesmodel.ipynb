{
 "cells": [
  {
   "cell_type": "code",
   "execution_count": 37,
   "metadata": {},
   "outputs": [],
   "source": [
    "# Análisis y procesamiento de datos\n",
    "import pandas as pd\n",
    "import numpy as np\n",
    "\n",
    "# Visualización de datos\n",
    "import matplotlib.pyplot as plt\n",
    "import seaborn as sns\n",
    "\n",
    "# Modelos de aprendizaje \n",
    "from sklearn.metrics import accuracy_score\n",
    "from sklearn.model_selection import train_test_split\n",
    "from sklearn.linear_model import LinearRegression\n",
    "#from sklearn.preprocessing import MinMaxScaler\n",
    "\n",
    "# Métricas\n",
    "from sklearn import metrics\n",
    "\n",
    "# Guardado de modelos\n",
    "import joblib\n"
   ]
  },
  {
   "cell_type": "code",
   "execution_count": 38,
   "metadata": {},
   "outputs": [
    {
     "data": {
      "text/html": [
       "<div>\n",
       "<style scoped>\n",
       "    .dataframe tbody tr th:only-of-type {\n",
       "        vertical-align: middle;\n",
       "    }\n",
       "\n",
       "    .dataframe tbody tr th {\n",
       "        vertical-align: top;\n",
       "    }\n",
       "\n",
       "    .dataframe thead th {\n",
       "        text-align: right;\n",
       "    }\n",
       "</style>\n",
       "<table border=\"1\" class=\"dataframe\">\n",
       "  <thead>\n",
       "    <tr style=\"text-align: right;\">\n",
       "      <th></th>\n",
       "      <th>Edad</th>\n",
       "      <th>Altura</th>\n",
       "      <th>Peso</th>\n",
       "      <th>estado_fisico</th>\n",
       "      <th>salud</th>\n",
       "      <th>alimentacion</th>\n",
       "      <th>fruta_consumo</th>\n",
       "      <th>verdura_consumo</th>\n",
       "      <th>genero</th>\n",
       "      <th>actividad_fisica</th>\n",
       "      <th>...</th>\n",
       "      <th>motivo__Salud</th>\n",
       "      <th>disponibilidad_tiempo</th>\n",
       "      <th>experiencia_fuerza</th>\n",
       "      <th>experiencia_cardio</th>\n",
       "      <th>acceso</th>\n",
       "      <th>preferencia_area</th>\n",
       "      <th>intensidad</th>\n",
       "      <th>IMC</th>\n",
       "      <th>grasa_corporal</th>\n",
       "      <th>grasa_corporal_magra</th>\n",
       "    </tr>\n",
       "  </thead>\n",
       "  <tbody>\n",
       "    <tr>\n",
       "      <th>0</th>\n",
       "      <td>22</td>\n",
       "      <td>1.59</td>\n",
       "      <td>145.0</td>\n",
       "      <td>7.0</td>\n",
       "      <td>9.0</td>\n",
       "      <td>3.0</td>\n",
       "      <td>4.0</td>\n",
       "      <td>4.0</td>\n",
       "      <td>0</td>\n",
       "      <td>0</td>\n",
       "      <td>...</td>\n",
       "      <td>1</td>\n",
       "      <td>0</td>\n",
       "      <td>0</td>\n",
       "      <td>0</td>\n",
       "      <td>0</td>\n",
       "      <td>0</td>\n",
       "      <td>0</td>\n",
       "      <td>26.07</td>\n",
       "      <td>30.94</td>\n",
       "      <td>48.73</td>\n",
       "    </tr>\n",
       "    <tr>\n",
       "      <th>1</th>\n",
       "      <td>22</td>\n",
       "      <td>1.84</td>\n",
       "      <td>205.0</td>\n",
       "      <td>7.0</td>\n",
       "      <td>9.0</td>\n",
       "      <td>3.0</td>\n",
       "      <td>2.0</td>\n",
       "      <td>3.0</td>\n",
       "      <td>1</td>\n",
       "      <td>1</td>\n",
       "      <td>...</td>\n",
       "      <td>0</td>\n",
       "      <td>1</td>\n",
       "      <td>0</td>\n",
       "      <td>0</td>\n",
       "      <td>1</td>\n",
       "      <td>1</td>\n",
       "      <td>0</td>\n",
       "      <td>27.52</td>\n",
       "      <td>21.88</td>\n",
       "      <td>67.54</td>\n",
       "    </tr>\n",
       "    <tr>\n",
       "      <th>2</th>\n",
       "      <td>20</td>\n",
       "      <td>1.70</td>\n",
       "      <td>122.0</td>\n",
       "      <td>1.0</td>\n",
       "      <td>7.0</td>\n",
       "      <td>4.0</td>\n",
       "      <td>2.0</td>\n",
       "      <td>2.0</td>\n",
       "      <td>1</td>\n",
       "      <td>1</td>\n",
       "      <td>...</td>\n",
       "      <td>0</td>\n",
       "      <td>1</td>\n",
       "      <td>0</td>\n",
       "      <td>0</td>\n",
       "      <td>0</td>\n",
       "      <td>2</td>\n",
       "      <td>1</td>\n",
       "      <td>19.19</td>\n",
       "      <td>11.43</td>\n",
       "      <td>44.81</td>\n",
       "    </tr>\n",
       "    <tr>\n",
       "      <th>3</th>\n",
       "      <td>25</td>\n",
       "      <td>1.63</td>\n",
       "      <td>120.0</td>\n",
       "      <td>-1.0</td>\n",
       "      <td>-1.0</td>\n",
       "      <td>-1.0</td>\n",
       "      <td>-1.0</td>\n",
       "      <td>-1.0</td>\n",
       "      <td>0</td>\n",
       "      <td>2</td>\n",
       "      <td>...</td>\n",
       "      <td>0</td>\n",
       "      <td>1</td>\n",
       "      <td>0</td>\n",
       "      <td>1</td>\n",
       "      <td>0</td>\n",
       "      <td>3</td>\n",
       "      <td>0</td>\n",
       "      <td>20.53</td>\n",
       "      <td>24.99</td>\n",
       "      <td>43.35</td>\n",
       "    </tr>\n",
       "    <tr>\n",
       "      <th>4</th>\n",
       "      <td>18</td>\n",
       "      <td>1.71</td>\n",
       "      <td>110.0</td>\n",
       "      <td>4.0</td>\n",
       "      <td>6.0</td>\n",
       "      <td>3.0</td>\n",
       "      <td>3.0</td>\n",
       "      <td>4.0</td>\n",
       "      <td>1</td>\n",
       "      <td>1</td>\n",
       "      <td>...</td>\n",
       "      <td>0</td>\n",
       "      <td>1</td>\n",
       "      <td>1</td>\n",
       "      <td>1</td>\n",
       "      <td>0</td>\n",
       "      <td>4</td>\n",
       "      <td>0</td>\n",
       "      <td>17.10</td>\n",
       "      <td>8.46</td>\n",
       "      <td>41.45</td>\n",
       "    </tr>\n",
       "  </tbody>\n",
       "</table>\n",
       "<p>5 rows × 43 columns</p>\n",
       "</div>"
      ],
      "text/plain": [
       "   Edad  Altura   Peso  estado_fisico  salud  alimentacion  fruta_consumo  \\\n",
       "0    22    1.59  145.0            7.0    9.0           3.0            4.0   \n",
       "1    22    1.84  205.0            7.0    9.0           3.0            2.0   \n",
       "2    20    1.70  122.0            1.0    7.0           4.0            2.0   \n",
       "3    25    1.63  120.0           -1.0   -1.0          -1.0           -1.0   \n",
       "4    18    1.71  110.0            4.0    6.0           3.0            3.0   \n",
       "\n",
       "   verdura_consumo  genero  actividad_fisica  ...  motivo__Salud  \\\n",
       "0              4.0       0                 0  ...              1   \n",
       "1              3.0       1                 1  ...              0   \n",
       "2              2.0       1                 1  ...              0   \n",
       "3             -1.0       0                 2  ...              0   \n",
       "4              4.0       1                 1  ...              0   \n",
       "\n",
       "   disponibilidad_tiempo  experiencia_fuerza  experiencia_cardio  acceso  \\\n",
       "0                      0                   0                   0       0   \n",
       "1                      1                   0                   0       1   \n",
       "2                      1                   0                   0       0   \n",
       "3                      1                   0                   1       0   \n",
       "4                      1                   1                   1       0   \n",
       "\n",
       "   preferencia_area  intensidad    IMC  grasa_corporal  grasa_corporal_magra  \n",
       "0                 0           0  26.07           30.94                 48.73  \n",
       "1                 1           0  27.52           21.88                 67.54  \n",
       "2                 2           1  19.19           11.43                 44.81  \n",
       "3                 3           0  20.53           24.99                 43.35  \n",
       "4                 4           0  17.10            8.46                 41.45  \n",
       "\n",
       "[5 rows x 43 columns]"
      ]
     },
     "execution_count": 38,
     "metadata": {},
     "output_type": "execute_result"
    }
   ],
   "source": [
    "df = pd.read_csv(\"./dataLimpia.csv\")\n",
    "df.head()"
   ]
  },
  {
   "cell_type": "code",
   "execution_count": 39,
   "metadata": {},
   "outputs": [
    {
     "name": "stdout",
     "output_type": "stream",
     "text": [
      "<class 'pandas.core.frame.DataFrame'>\n",
      "RangeIndex: 318 entries, 0 to 317\n",
      "Data columns (total 43 columns):\n",
      " #   Column                         Non-Null Count  Dtype  \n",
      "---  ------                         --------------  -----  \n",
      " 0   Edad                           318 non-null    int64  \n",
      " 1   Altura                         318 non-null    float64\n",
      " 2   Peso                           318 non-null    float64\n",
      " 3   estado_fisico                  318 non-null    float64\n",
      " 4   salud                          318 non-null    float64\n",
      " 5   alimentacion                   318 non-null    float64\n",
      " 6   fruta_consumo                  318 non-null    float64\n",
      " 7   verdura_consumo                318 non-null    float64\n",
      " 8   genero                         318 non-null    int64  \n",
      " 9   actividad_fisica               318 non-null    int64  \n",
      " 10  dias_entreno                   318 non-null    int64  \n",
      " 11  horas_entreno                  318 non-null    int64  \n",
      " 12  entreno_constante              318 non-null    int64  \n",
      " 13  enfoque                        318 non-null    int64  \n",
      " 14  areas__Abdomen                 318 non-null    float64\n",
      " 15  areas__Brazo                   318 non-null    float64\n",
      " 16  areas__Cardio                  318 non-null    float64\n",
      " 17  areas__Espalda                 318 non-null    float64\n",
      " 18  areas__Pecho                   318 non-null    float64\n",
      " 19  areas__Pierna                  318 non-null    float64\n",
      " 20  efectividad                    318 non-null    int64  \n",
      " 21  consumo__Creatina              318 non-null    float64\n",
      " 22  consumo__Nada                  318 non-null    float64\n",
      " 23  consumo__Otro                  318 non-null    float64\n",
      " 24  consumo__Pre-Entreno           318 non-null    float64\n",
      " 25  consumo_proteina               318 non-null    float64\n",
      " 26  horas_dormir                   318 non-null    int64  \n",
      " 27  fuente_energia1                318 non-null    int64  \n",
      " 28  fuente_energia2                318 non-null    int64  \n",
      " 29  agua                           318 non-null    int64  \n",
      " 30  motivo__Aumentodemasamuscular  318 non-null    int64  \n",
      " 31  motivo__Definicion_muscular    318 non-null    int64  \n",
      " 32  motivo__Perdida_Peso           318 non-null    int64  \n",
      " 33  motivo__Salud                  318 non-null    int64  \n",
      " 34  disponibilidad_tiempo          318 non-null    int64  \n",
      " 35  experiencia_fuerza             318 non-null    int64  \n",
      " 36  experiencia_cardio             318 non-null    int64  \n",
      " 37  acceso                         318 non-null    int64  \n",
      " 38  preferencia_area               318 non-null    int64  \n",
      " 39  intensidad                     318 non-null    int64  \n",
      " 40  IMC                            318 non-null    float64\n",
      " 41  grasa_corporal                 318 non-null    float64\n",
      " 42  grasa_corporal_magra           318 non-null    float64\n",
      "dtypes: float64(21), int64(22)\n",
      "memory usage: 107.0 KB\n"
     ]
    }
   ],
   "source": [
    "df.info()\n"
   ]
  },
  {
   "cell_type": "code",
   "execution_count": 40,
   "metadata": {},
   "outputs": [
    {
     "data": {
      "text/html": [
       "<div>\n",
       "<style scoped>\n",
       "    .dataframe tbody tr th:only-of-type {\n",
       "        vertical-align: middle;\n",
       "    }\n",
       "\n",
       "    .dataframe tbody tr th {\n",
       "        vertical-align: top;\n",
       "    }\n",
       "\n",
       "    .dataframe thead th {\n",
       "        text-align: right;\n",
       "    }\n",
       "</style>\n",
       "<table border=\"1\" class=\"dataframe\">\n",
       "  <thead>\n",
       "    <tr style=\"text-align: right;\">\n",
       "      <th></th>\n",
       "      <th>Edad</th>\n",
       "      <th>Altura</th>\n",
       "      <th>Peso</th>\n",
       "      <th>dias_entreno</th>\n",
       "      <th>horas_entreno</th>\n",
       "      <th>genero</th>\n",
       "    </tr>\n",
       "  </thead>\n",
       "  <tbody>\n",
       "    <tr>\n",
       "      <th>0</th>\n",
       "      <td>22</td>\n",
       "      <td>1.59</td>\n",
       "      <td>145.0</td>\n",
       "      <td>0</td>\n",
       "      <td>0</td>\n",
       "      <td>0</td>\n",
       "    </tr>\n",
       "    <tr>\n",
       "      <th>1</th>\n",
       "      <td>22</td>\n",
       "      <td>1.84</td>\n",
       "      <td>205.0</td>\n",
       "      <td>0</td>\n",
       "      <td>1</td>\n",
       "      <td>1</td>\n",
       "    </tr>\n",
       "    <tr>\n",
       "      <th>2</th>\n",
       "      <td>20</td>\n",
       "      <td>1.70</td>\n",
       "      <td>122.0</td>\n",
       "      <td>0</td>\n",
       "      <td>2</td>\n",
       "      <td>1</td>\n",
       "    </tr>\n",
       "    <tr>\n",
       "      <th>3</th>\n",
       "      <td>25</td>\n",
       "      <td>1.63</td>\n",
       "      <td>120.0</td>\n",
       "      <td>-1</td>\n",
       "      <td>-1</td>\n",
       "      <td>0</td>\n",
       "    </tr>\n",
       "    <tr>\n",
       "      <th>4</th>\n",
       "      <td>18</td>\n",
       "      <td>1.71</td>\n",
       "      <td>110.0</td>\n",
       "      <td>1</td>\n",
       "      <td>2</td>\n",
       "      <td>1</td>\n",
       "    </tr>\n",
       "  </tbody>\n",
       "</table>\n",
       "</div>"
      ],
      "text/plain": [
       "   Edad  Altura   Peso  dias_entreno  horas_entreno  genero\n",
       "0    22    1.59  145.0             0              0       0\n",
       "1    22    1.84  205.0             0              1       1\n",
       "2    20    1.70  122.0             0              2       1\n",
       "3    25    1.63  120.0            -1             -1       0\n",
       "4    18    1.71  110.0             1              2       1"
      ]
     },
     "execution_count": 40,
     "metadata": {},
     "output_type": "execute_result"
    }
   ],
   "source": [
    "df = df[[\"Edad\", \"Altura\", \"Peso\", \"dias_entreno\", \"horas_entreno\", \"genero\"]]\n",
    "\n",
    "df.head()"
   ]
  },
  {
   "cell_type": "code",
   "execution_count": 54,
   "metadata": {},
   "outputs": [
    {
     "name": "stdout",
     "output_type": "stream",
     "text": [
      "1.725\n"
     ]
    }
   ],
   "source": [
    "#Calcular Factor de Actividad\n",
    "def factor_actividad(dias, horas):\n",
    "    #si no entrena\n",
    "    factor = 1.2\n",
    "    if(dias == 1):\n",
    "        #Si entrena 1-2 veces por semana\n",
    "        factor = 1.375\n",
    "    elif(dias == 0):\n",
    "        #Si entrena 3-4 veces por semana\n",
    "        factor = 1.55\n",
    "    elif((dias == 3 or dias == 2) and horas != 3):\n",
    "        #Si entrena 5-7 veces por semana\n",
    "        factor = 1.725\n",
    "    elif((dias == 3 or dias == 2) and horas == 3):\n",
    "        #Si entrena más de 4 horas al día de 5-7 a veces por semana\n",
    "        factor = 1.9\n",
    "    return factor\n",
    "\n",
    "\n",
    "print(factor_actividad(2,2))\n"
   ]
  },
  {
   "cell_type": "code",
   "execution_count": 42,
   "metadata": {},
   "outputs": [
    {
     "data": {
      "text/html": [
       "<div>\n",
       "<style scoped>\n",
       "    .dataframe tbody tr th:only-of-type {\n",
       "        vertical-align: middle;\n",
       "    }\n",
       "\n",
       "    .dataframe tbody tr th {\n",
       "        vertical-align: top;\n",
       "    }\n",
       "\n",
       "    .dataframe thead th {\n",
       "        text-align: right;\n",
       "    }\n",
       "</style>\n",
       "<table border=\"1\" class=\"dataframe\">\n",
       "  <thead>\n",
       "    <tr style=\"text-align: right;\">\n",
       "      <th></th>\n",
       "      <th>Edad</th>\n",
       "      <th>Altura</th>\n",
       "      <th>Peso</th>\n",
       "      <th>dias_entreno</th>\n",
       "      <th>horas_entreno</th>\n",
       "      <th>genero</th>\n",
       "      <th>factor_actividad</th>\n",
       "    </tr>\n",
       "  </thead>\n",
       "  <tbody>\n",
       "    <tr>\n",
       "      <th>0</th>\n",
       "      <td>22</td>\n",
       "      <td>1.59</td>\n",
       "      <td>145.0</td>\n",
       "      <td>0</td>\n",
       "      <td>0</td>\n",
       "      <td>0</td>\n",
       "      <td>1.550</td>\n",
       "    </tr>\n",
       "    <tr>\n",
       "      <th>1</th>\n",
       "      <td>22</td>\n",
       "      <td>1.84</td>\n",
       "      <td>205.0</td>\n",
       "      <td>0</td>\n",
       "      <td>1</td>\n",
       "      <td>1</td>\n",
       "      <td>1.550</td>\n",
       "    </tr>\n",
       "    <tr>\n",
       "      <th>2</th>\n",
       "      <td>20</td>\n",
       "      <td>1.70</td>\n",
       "      <td>122.0</td>\n",
       "      <td>0</td>\n",
       "      <td>2</td>\n",
       "      <td>1</td>\n",
       "      <td>1.550</td>\n",
       "    </tr>\n",
       "    <tr>\n",
       "      <th>3</th>\n",
       "      <td>25</td>\n",
       "      <td>1.63</td>\n",
       "      <td>120.0</td>\n",
       "      <td>-1</td>\n",
       "      <td>-1</td>\n",
       "      <td>0</td>\n",
       "      <td>1.200</td>\n",
       "    </tr>\n",
       "    <tr>\n",
       "      <th>4</th>\n",
       "      <td>18</td>\n",
       "      <td>1.71</td>\n",
       "      <td>110.0</td>\n",
       "      <td>1</td>\n",
       "      <td>2</td>\n",
       "      <td>1</td>\n",
       "      <td>1.375</td>\n",
       "    </tr>\n",
       "  </tbody>\n",
       "</table>\n",
       "</div>"
      ],
      "text/plain": [
       "   Edad  Altura   Peso  dias_entreno  horas_entreno  genero  factor_actividad\n",
       "0    22    1.59  145.0             0              0       0             1.550\n",
       "1    22    1.84  205.0             0              1       1             1.550\n",
       "2    20    1.70  122.0             0              2       1             1.550\n",
       "3    25    1.63  120.0            -1             -1       0             1.200\n",
       "4    18    1.71  110.0             1              2       1             1.375"
      ]
     },
     "execution_count": 42,
     "metadata": {},
     "output_type": "execute_result"
    }
   ],
   "source": [
    "#Agregar columna de factor de entrenamiento\n",
    "df = df.assign(factor_actividad=df.apply(lambda row: factor_actividad(row['dias_entreno'], row['horas_entreno']), axis=1))\n",
    "\n",
    "df.head()"
   ]
  },
  {
   "cell_type": "code",
   "execution_count": 43,
   "metadata": {},
   "outputs": [
    {
     "name": "stdout",
     "output_type": "stream",
     "text": [
      "1507.09\n"
     ]
    }
   ],
   "source": [
    "#Calcular calorías diarias recomendadas\n",
    "def calorias (edad, genero, peso, altura, factor_actividad):\n",
    "    consumo = 0\n",
    "    if(genero == 0):\n",
    "        consumo = (655 + (9.6 * peso/2.2))  +  ((1.8 * altura*100) - (4.7 * edad)) * factor_actividad\n",
    "    else:\n",
    "        consumo = (66 + (13.7 * peso/2.2))  +  ((5 * altura*100) - (6.8 * edad)) * factor_actividad\n",
    "    return round(consumo,2)\n",
    "\n",
    "print(calorias(22, 0, 145, 1.59, 1.2))"
   ]
  },
  {
   "cell_type": "code",
   "execution_count": 44,
   "metadata": {},
   "outputs": [
    {
     "data": {
      "text/html": [
       "<div>\n",
       "<style scoped>\n",
       "    .dataframe tbody tr th:only-of-type {\n",
       "        vertical-align: middle;\n",
       "    }\n",
       "\n",
       "    .dataframe tbody tr th {\n",
       "        vertical-align: top;\n",
       "    }\n",
       "\n",
       "    .dataframe thead th {\n",
       "        text-align: right;\n",
       "    }\n",
       "</style>\n",
       "<table border=\"1\" class=\"dataframe\">\n",
       "  <thead>\n",
       "    <tr style=\"text-align: right;\">\n",
       "      <th></th>\n",
       "      <th>Edad</th>\n",
       "      <th>Altura</th>\n",
       "      <th>Peso</th>\n",
       "      <th>dias_entreno</th>\n",
       "      <th>horas_entreno</th>\n",
       "      <th>genero</th>\n",
       "      <th>factor_actividad</th>\n",
       "      <th>calorias_consumo</th>\n",
       "    </tr>\n",
       "  </thead>\n",
       "  <tbody>\n",
       "    <tr>\n",
       "      <th>0</th>\n",
       "      <td>22</td>\n",
       "      <td>1.59</td>\n",
       "      <td>145.0</td>\n",
       "      <td>0</td>\n",
       "      <td>0</td>\n",
       "      <td>0</td>\n",
       "      <td>1.550</td>\n",
       "      <td>1571.07</td>\n",
       "    </tr>\n",
       "    <tr>\n",
       "      <th>1</th>\n",
       "      <td>22</td>\n",
       "      <td>1.84</td>\n",
       "      <td>205.0</td>\n",
       "      <td>0</td>\n",
       "      <td>1</td>\n",
       "      <td>1</td>\n",
       "      <td>1.550</td>\n",
       "      <td>2536.71</td>\n",
       "    </tr>\n",
       "    <tr>\n",
       "      <th>2</th>\n",
       "      <td>20</td>\n",
       "      <td>1.70</td>\n",
       "      <td>122.0</td>\n",
       "      <td>0</td>\n",
       "      <td>2</td>\n",
       "      <td>1</td>\n",
       "      <td>1.550</td>\n",
       "      <td>1932.43</td>\n",
       "    </tr>\n",
       "    <tr>\n",
       "      <th>3</th>\n",
       "      <td>25</td>\n",
       "      <td>1.63</td>\n",
       "      <td>120.0</td>\n",
       "      <td>-1</td>\n",
       "      <td>-1</td>\n",
       "      <td>0</td>\n",
       "      <td>1.200</td>\n",
       "      <td>1389.72</td>\n",
       "    </tr>\n",
       "    <tr>\n",
       "      <th>4</th>\n",
       "      <td>18</td>\n",
       "      <td>1.71</td>\n",
       "      <td>110.0</td>\n",
       "      <td>1</td>\n",
       "      <td>2</td>\n",
       "      <td>1</td>\n",
       "      <td>1.375</td>\n",
       "      <td>1758.33</td>\n",
       "    </tr>\n",
       "  </tbody>\n",
       "</table>\n",
       "</div>"
      ],
      "text/plain": [
       "   Edad  Altura   Peso  dias_entreno  horas_entreno  genero  factor_actividad  \\\n",
       "0    22    1.59  145.0             0              0       0             1.550   \n",
       "1    22    1.84  205.0             0              1       1             1.550   \n",
       "2    20    1.70  122.0             0              2       1             1.550   \n",
       "3    25    1.63  120.0            -1             -1       0             1.200   \n",
       "4    18    1.71  110.0             1              2       1             1.375   \n",
       "\n",
       "   calorias_consumo  \n",
       "0           1571.07  \n",
       "1           2536.71  \n",
       "2           1932.43  \n",
       "3           1389.72  \n",
       "4           1758.33  "
      ]
     },
     "execution_count": 44,
     "metadata": {},
     "output_type": "execute_result"
    }
   ],
   "source": [
    "#Agregar columna de factor de entrenamiento\n",
    "df = df.assign(calorias_consumo=df.apply(lambda row: calorias(row['Edad'], row['genero'], row['Peso'], row['Altura'], row['factor_actividad']), axis=1))\n",
    "\n",
    "df.head()"
   ]
  },
  {
   "cell_type": "code",
   "execution_count": 45,
   "metadata": {},
   "outputs": [
    {
     "data": {
      "image/png": "[encoded data removed]",
      "text/plain": [
       "<Figure size 800x800 with 2 Axes>"
      ]
     },
     "metadata": {},
     "output_type": "display_data"
    }
   ],
   "source": [
    "plt.figure(figsize=(8,8))\n",
    "dataplot = sns.heatmap(df.corr(), annot=True)"
   ]
  },
  {
   "cell_type": "code",
   "execution_count": 46,
   "metadata": {},
   "outputs": [],
   "source": [
    "#Separar test y train\n",
    "x = df[[\"Edad\", \"Altura\", \"Peso\", \"dias_entreno\", \"horas_entreno\", \"genero\", \"factor_actividad\"]]\n",
    "y = df[[\"calorias_consumo\"]]\n",
    "\n",
    "x_train, x_test, y_train, y_test = train_test_split(x, y, test_size=0.2, random_state=42)"
   ]
  },
  {
   "cell_type": "code",
   "execution_count": 47,
   "metadata": {},
   "outputs": [
    {
     "data": {
      "text/html": [
       "<div>\n",
       "<style scoped>\n",
       "    .dataframe tbody tr th:only-of-type {\n",
       "        vertical-align: middle;\n",
       "    }\n",
       "\n",
       "    .dataframe tbody tr th {\n",
       "        vertical-align: top;\n",
       "    }\n",
       "\n",
       "    .dataframe thead th {\n",
       "        text-align: right;\n",
       "    }\n",
       "</style>\n",
       "<table border=\"1\" class=\"dataframe\">\n",
       "  <thead>\n",
       "    <tr style=\"text-align: right;\">\n",
       "      <th></th>\n",
       "      <th>Edad</th>\n",
       "      <th>Altura</th>\n",
       "      <th>Peso</th>\n",
       "      <th>dias_entreno</th>\n",
       "      <th>horas_entreno</th>\n",
       "      <th>genero</th>\n",
       "      <th>factor_actividad</th>\n",
       "    </tr>\n",
       "  </thead>\n",
       "  <tbody>\n",
       "    <tr>\n",
       "      <th>209</th>\n",
       "      <td>20</td>\n",
       "      <td>1.58</td>\n",
       "      <td>110.0</td>\n",
       "      <td>3</td>\n",
       "      <td>2</td>\n",
       "      <td>0</td>\n",
       "      <td>1.725</td>\n",
       "    </tr>\n",
       "    <tr>\n",
       "      <th>76</th>\n",
       "      <td>21</td>\n",
       "      <td>1.54</td>\n",
       "      <td>96.0</td>\n",
       "      <td>0</td>\n",
       "      <td>1</td>\n",
       "      <td>0</td>\n",
       "      <td>1.550</td>\n",
       "    </tr>\n",
       "    <tr>\n",
       "      <th>94</th>\n",
       "      <td>22</td>\n",
       "      <td>1.70</td>\n",
       "      <td>75.0</td>\n",
       "      <td>-1</td>\n",
       "      <td>-1</td>\n",
       "      <td>1</td>\n",
       "      <td>1.200</td>\n",
       "    </tr>\n",
       "    <tr>\n",
       "      <th>221</th>\n",
       "      <td>22</td>\n",
       "      <td>1.72</td>\n",
       "      <td>130.0</td>\n",
       "      <td>-1</td>\n",
       "      <td>-1</td>\n",
       "      <td>1</td>\n",
       "      <td>1.200</td>\n",
       "    </tr>\n",
       "    <tr>\n",
       "      <th>310</th>\n",
       "      <td>18</td>\n",
       "      <td>1.77</td>\n",
       "      <td>154.0</td>\n",
       "      <td>-1</td>\n",
       "      <td>-1</td>\n",
       "      <td>1</td>\n",
       "      <td>1.200</td>\n",
       "    </tr>\n",
       "  </tbody>\n",
       "</table>\n",
       "</div>"
      ],
      "text/plain": [
       "     Edad  Altura   Peso  dias_entreno  horas_entreno  genero  \\\n",
       "209    20    1.58  110.0             3              2       0   \n",
       "76     21    1.54   96.0             0              1       0   \n",
       "94     22    1.70   75.0            -1             -1       1   \n",
       "221    22    1.72  130.0            -1             -1       1   \n",
       "310    18    1.77  154.0            -1             -1       1   \n",
       "\n",
       "     factor_actividad  \n",
       "209             1.725  \n",
       "76              1.550  \n",
       "94              1.200  \n",
       "221             1.200  \n",
       "310             1.200  "
      ]
     },
     "execution_count": 47,
     "metadata": {},
     "output_type": "execute_result"
    }
   ],
   "source": [
    "x_train.head()"
   ]
  },
  {
   "cell_type": "code",
   "execution_count": 48,
   "metadata": {},
   "outputs": [
    {
     "data": {
      "text/plain": [
       "array([[2334.59259694],\n",
       "       [2327.99905784],\n",
       "       [1964.93431847],\n",
       "       [1356.26954453],\n",
       "       [1928.26106752]])"
      ]
     },
     "execution_count": 48,
     "metadata": {},
     "output_type": "execute_result"
    }
   ],
   "source": [
    "modelo = LinearRegression().fit(x_train, y_train)\n",
    "\n",
    "prediccion_test = modelo.predict(x_test)\n",
    "\n",
    "prediccion_test[0:5]"
   ]
  },
  {
   "cell_type": "code",
   "execution_count": 49,
   "metadata": {},
   "outputs": [],
   "source": [
    "#Guardar Modelo\n",
    "joblib.dump(modelo,\"models/modelo_calorias.pkl\")\n",
    "\n",
    "#Modleo entrenado\n",
    "modelo_entrenado = joblib.load(\"models/modelo_calorias.pkl\")"
   ]
  },
  {
   "cell_type": "code",
   "execution_count": 50,
   "metadata": {},
   "outputs": [
    {
     "data": {
      "text/plain": [
       "<AxesSubplot: ylabel='calorias_consumo'>"
      ]
     },
     "execution_count": 50,
     "metadata": {},
     "output_type": "execute_result"
    },
    {
     "data": {
      "image/png": "[encoded data removed]",
      "text/plain": [
       "<Figure size 600x600 with 1 Axes>"
      ]
     },
     "metadata": {},
     "output_type": "display_data"
    }
   ],
   "source": [
    "plt.figure(figsize=(6,6))\n",
    "sns.regplot(x=prediccion_test, y=y_test, line_kws={\"color\":\"red\"})"
   ]
  },
  {
   "cell_type": "code",
   "execution_count": 51,
   "metadata": {},
   "outputs": [
    {
     "name": "stdout",
     "output_type": "stream",
     "text": [
      "COEF. REAL: 0.96\n",
      "COEF. PREDICTED: 1.00\n",
      "ERROR ABSOLUTO MEDIO: 61.08\n",
      "SQRT ERROR: 71.72\n",
      "INTERCEPTO: -625.5918461795334\n",
      "COEFICIENTES: [[-1.03117778e+01  5.76648486e+02  5.71485258e+00 -1.77484211e+00\n",
      "  -3.94137704e-01  3.71569844e+02  4.63668330e+02]]\n"
     ]
    }
   ],
   "source": [
    "print(f'COEF. REAL:{modelo.score(x_test, y_test): .2f}')\n",
    "print(f'COEF. PREDICTED:{modelo.score(x_test, prediccion_test): .2f}')\n",
    "\n",
    "print(f'ERROR ABSOLUTO MEDIO:{metrics.mean_absolute_error(y_test, prediccion_test): .2f}')\n",
    "print(f'SQRT ERROR:{np.sqrt(metrics.mean_squared_error(y_test, prediccion_test)): .2f}')\n",
    "\n",
    "print('INTERCEPTO:', modelo.intercept_[0])\n",
    "print('COEFICIENTES:', modelo.coef_)"
   ]
  },
  {
   "cell_type": "code",
   "execution_count": 52,
   "metadata": {},
   "outputs": [
    {
     "name": "stderr",
     "output_type": "stream",
     "text": [
      "C:\\Users\\adali\\AppData\\Local\\Packages\\PythonSoftwareFoundation.Python.3.10_qbz5n2kfra8p0\\LocalCache\\local-packages\\Python310\\site-packages\\sklearn\\base.py:439: UserWarning: X does not have valid feature names, but LinearRegression was fitted with feature names\n",
      "  warnings.warn(\n"
     ]
    },
    {
     "data": {
      "text/plain": [
       "array([[1813.66378641]])"
      ]
     },
     "execution_count": 52,
     "metadata": {},
     "output_type": "execute_result"
    }
   ],
   "source": [
    "modelo.predict([[21,1.56,145,0,1,1,1.2]])"
   ]
  },
  {
   "cell_type": "code",
   "execution_count": 53,
   "metadata": {},
   "outputs": [
    {
     "name": "stderr",
     "output_type": "stream",
     "text": [
      "C:\\Users\\adali\\AppData\\Local\\Packages\\PythonSoftwareFoundation.Python.3.10_qbz5n2kfra8p0\\LocalCache\\local-packages\\Python310\\site-packages\\sklearn\\base.py:439: UserWarning: X does not have valid feature names, but LinearRegression was fitted with feature names\n",
      "  warnings.warn(\n"
     ]
    },
    {
     "data": {
      "text/plain": [
       "array([[1813.66378641]])"
      ]
     },
     "execution_count": 53,
     "metadata": {},
     "output_type": "execute_result"
    }
   ],
   "source": [
    "#Predicr Modelo Guardado\n",
    "modelo_entrenado.predict([[21,1.56,145,0,1,1,1.2]])"
   ]
  }
 ],
 "metadata": {
  "kernelspec": {
   "display_name": "Python 3",
   "language": "python",
   "name": "python3"
  },
  "language_info": {
   "codemirror_mode": {
    "name": "ipython",
    "version": 3
   },
   "file_extension": ".py",
   "mimetype": "text/x-python",
   "name": "python",
   "nbconvert_exporter": "python",
   "pygments_lexer": "ipython3",
   "version": "3.10.11"
  },
  "orig_nbformat": 4
 },
 "nbformat": 4,
 "nbformat_minor": 2
}
